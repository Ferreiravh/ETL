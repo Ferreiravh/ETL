{
 "cells": [
  {
   "cell_type": "markdown",
   "id": "402821d9",
   "metadata": {},
   "source": [
    "# ETL - Bovespa\n",
    "\n",
    "### https://www.b3.com.br/pt_br/market-data-e-indices/servicos-de-dados/market-data/historico/mercado-a-vista/series-historicas/"
   ]
  },
  {
   "cell_type": "code",
   "execution_count": 1,
   "id": "14f8641f",
   "metadata": {},
   "outputs": [],
   "source": [
    "import pandas as pd"
   ]
  },
  {
   "cell_type": "markdown",
   "id": "3f8c0f4e",
   "metadata": {},
   "source": [
    "# Extraction"
   ]
  },
  {
   "cell_type": "code",
   "execution_count": 2,
   "id": "32c10617",
   "metadata": {},
   "outputs": [],
   "source": [
    "def read_file(path, name_file, year_date, type_file):\n",
    "\n",
    "    _file = f'{path}{name_file}{year_date}.{type_file}'\n",
    "    colspecs = [(2,10),\n",
    "                (10,12),\n",
    "                (12,24),\n",
    "                (27,39),\n",
    "                (56,69),\n",
    "                (69,82),\n",
    "                (82,95),\n",
    "                (108,121),\n",
    "                (152,170),\n",
    "                (170,188)\n",
    "               ]\n",
    "\n",
    "    names = ['data_pregao', \n",
    "             'codbdi', \n",
    "             'sigla_acao', \n",
    "             'nome_acao', \n",
    "             'preco_abertura', \n",
    "             'preco_maximo', \n",
    "             'preco_minimo', \n",
    "             'preco_fechamento',\n",
    "             'qtd_negocios',\n",
    "             'volume_negocios'\n",
    "            ]\n",
    "\n",
    "    # Read a table of fixed-width formatted lines into DataFrame\n",
    "    df = pd.read_fwf(_file, colspecs = colspecs, names = names, skiprows = 1)\n",
    "\n",
    "    return df"
   ]
  },
  {
   "cell_type": "markdown",
   "id": "de405d25",
   "metadata": {},
   "source": [
    "# Transformação"
   ]
  },
  {
   "cell_type": "code",
   "execution_count": 3,
   "id": "9210b7ca",
   "metadata": {},
   "outputs": [],
   "source": [
    "# Filtrando pelo lote padrão (codbdi = 2)\n",
    "\n",
    "def filter_stocks(df):\n",
    "    df = df[df['codbdi'] == 2]\n",
    "    df = df.drop(['codbdi'], 1)\n",
    "    return df"
   ]
  },
  {
   "cell_type": "code",
   "execution_count": 4,
   "id": "90e18378",
   "metadata": {},
   "outputs": [],
   "source": [
    "# Ajuste do campo data\n",
    "\n",
    "def parse_date(df):\n",
    "    df['data_pregao'] = pd.to_datetime(df['data_pregao'], format = '%Y%m%d')\n",
    "    return df"
   ]
  },
  {
   "cell_type": "code",
   "execution_count": 5,
   "id": "a619cd29",
   "metadata": {},
   "outputs": [],
   "source": [
    "# Ajuste dos campos de númericos\n",
    "def parse_values(df):\n",
    "    df['preco_abertura'] = (df['preco_abertura'] /100).astype(float)\n",
    "    df['preco_maximo'] = (df['preco_maximo'] /100).astype(float)\n",
    "    df['preco_minimo'] = (df['preco_minimo'] /100).astype(float)\n",
    "    df['preco_fechamento'] = (df['preco_fechamento'] /100).astype(float)\n",
    "    df['qtd_negocios'] = df['qtd_negocios'].astype('int64')\n",
    "    df['volume_negocios'] = df['volume_negocios'].astype('int64')\n",
    "    \n",
    "    return df"
   ]
  },
  {
   "cell_type": "code",
   "execution_count": 6,
   "id": "657b24e2",
   "metadata": {},
   "outputs": [],
   "source": [
    "# Unindo os arquivos\n",
    "\n",
    "def concat_files(path, name_file, year_date, type_file, final_file):\n",
    "    for i, y in enumerate(year_date):\n",
    "        df = read_file(path, name_file, y, type_file)\n",
    "        df = filter_stocks(df)\n",
    "        df = parse_date(df)\n",
    "        df = parse_values(df)\n",
    "        \n",
    "        if i == 0:\n",
    "            df_final = df\n",
    "        else:\n",
    "            df_final = pd.concat([df_final, df])\n",
    "            \n",
    "    df_final.to_csv(f'{path}//{final_file}', index=False) # Não adicionar campo index no arquivo"
   ]
  },
  {
   "cell_type": "code",
   "execution_count": 7,
   "id": "0db3ae30",
   "metadata": {},
   "outputs": [
    {
     "name": "stderr",
     "output_type": "stream",
     "text": [
      "C:\\Users\\Victor\\AppData\\Local\\Temp\\ipykernel_3936\\1362514941.py:5: FutureWarning: In a future version of pandas all arguments of DataFrame.drop except for the argument 'labels' will be keyword-only.\n",
      "  df = df.drop(['codbdi'], 1)\n",
      "C:\\Users\\Victor\\AppData\\Local\\Temp\\ipykernel_3936\\1362514941.py:5: FutureWarning: In a future version of pandas all arguments of DataFrame.drop except for the argument 'labels' will be keyword-only.\n",
      "  df = df.drop(['codbdi'], 1)\n",
      "C:\\Users\\Victor\\AppData\\Local\\Temp\\ipykernel_3936\\1362514941.py:5: FutureWarning: In a future version of pandas all arguments of DataFrame.drop except for the argument 'labels' will be keyword-only.\n",
      "  df = df.drop(['codbdi'], 1)\n",
      "C:\\Users\\Victor\\AppData\\Local\\Temp\\ipykernel_3936\\1362514941.py:5: FutureWarning: In a future version of pandas all arguments of DataFrame.drop except for the argument 'labels' will be keyword-only.\n",
      "  df = df.drop(['codbdi'], 1)\n"
     ]
    }
   ],
   "source": [
    "# Executando o ETL\n",
    "\n",
    "year_date = ['2020', '2021', '2022', '2023']\n",
    "\n",
    "path = f'C:/Users/Victor/Desktop/Programacao/Python/003. ETL/'\n",
    "\n",
    "name_file = 'COTAHIST_A'\n",
    "\n",
    "type_file = 'txt'\n",
    "\n",
    "final_file = 'all_bovespa.csv'\n",
    "\n",
    "concat_files(path, name_file, year_date, type_file, final_file)"
   ]
  }
 ],
 "metadata": {
  "kernelspec": {
   "display_name": "Python 3 (ipykernel)",
   "language": "python",
   "name": "python3"
  },
  "language_info": {
   "codemirror_mode": {
    "name": "ipython",
    "version": 3
   },
   "file_extension": ".py",
   "mimetype": "text/x-python",
   "name": "python",
   "nbconvert_exporter": "python",
   "pygments_lexer": "ipython3",
   "version": "3.9.13"
  }
 },
 "nbformat": 4,
 "nbformat_minor": 5
}
